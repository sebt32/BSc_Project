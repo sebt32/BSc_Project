{
 "cells": [
  {
   "cell_type": "code",
   "execution_count": 1,
   "id": "green-irrigation",
   "metadata": {},
   "outputs": [],
   "source": [
    "import tensorflow as tf\n",
    "from tensorflow import keras\n",
    "from tensorflow.keras.models import Sequential, load_model\n",
    "from tensorflow.keras.layers import Activation, Dense, Flatten, Conv2D, MaxPool2D, Dropout\n",
    "from tensorflow.keras.optimizers import Adam\n",
    "from tensorflow.keras.metrics import categorical_crossentropy\n",
    "from tensorflow.keras.preprocessing.image import ImageDataGenerator\n",
    "import numpy as np\n",
    "from sklearn.metrics import roc_curve\n",
    "from sklearn.metrics import confusion_matrix\n",
    "import itertools\n",
    "import matplotlib.pyplot as plt\n",
    "import math\n",
    "from tensorflow.keras.utils import to_categorical\n",
    "from sklearn.metrics import accuracy_score\n",
    "import tensorflow_hub as hub"
   ]
  },
  {
   "cell_type": "code",
   "execution_count": 2,
   "id": "tamil-indian",
   "metadata": {},
   "outputs": [
    {
     "name": "stdout",
     "output_type": "stream",
     "text": [
      "Found 2555 images belonging to 8 classes.\n"
     ]
    }
   ],
   "source": [
    "img_height = img_width = 224\n",
    "batch_size = 10\n",
    "\n",
    "test_datagen = ImageDataGenerator(preprocessing_function=tf.keras.applications.vgg16.preprocess_input)\n",
    "\n",
    "test_gen = test_datagen.flow_from_directory(\n",
    "    \"data2019/test/\",\n",
    "    target_size=(img_height, img_width),\n",
    "    batch_size=batch_size,\n",
    "    color_mode=\"rgb\",\n",
    "    classes=['Actinic Keratosis', 'Basal Cell Carcinoma', 'Benign Keratosis', 'Dermatofibroma', 'Melanocytic Nevus', 'Melanoma', 'Squamous Cell Carcinoma', 'Vascular Lesion'],\n",
    "    shuffle=False,\n",
    "    seed=100,\n",
    ")"
   ]
  },
  {
   "cell_type": "code",
   "execution_count": 3,
   "id": "agreed-capture",
   "metadata": {},
   "outputs": [],
   "source": [
    "resnet_model = load_model('models/resnet.h5', custom_objects={'KerasLayer':hub.KerasLayer})\n",
    "nasnet_model = load_model('models/nasnet.h5', custom_objects={'KerasLayer':hub.KerasLayer})\n",
    "efficientnet_model = load_model('models/efficientnet.h5', custom_objects={'KerasLayer':hub.KerasLayer})\n",
    "\n",
    "#adding the models to a list\n",
    "models = list()\n",
    "models.append(resnet_model)\n",
    "models.append(nasnet_model)\n",
    "models.append(efficientnet_model)"
   ]
  },
  {
   "cell_type": "code",
   "execution_count": 4,
   "id": "indonesian-neighbor",
   "metadata": {},
   "outputs": [
    {
     "name": "stdout",
     "output_type": "stream",
     "text": [
      "256/256 [==============================] - 35s 136ms/step - loss: 1.0357 - accuracy: 0.8149\n",
      "[1.0357141494750977, 0.8148728013038635]\n",
      "256/256 [==============================] - 34s 133ms/step - loss: 11.7190 - accuracy: 0.1049\n",
      "[11.719029426574707, 0.10489236563444138]\n",
      "256/256 [==============================] - 34s 134ms/step - loss: 1.5607 - accuracy: 0.5601\n",
      "[1.560654640197754, 0.5600782632827759]\n"
     ]
    }
   ],
   "source": [
    "#evaluating on the test batch\n",
    "print(resnet_model.evaluate(x=test_gen))\n",
    "print(nasnet_model.evaluate(x=test_gen))\n",
    "print(efficientnet_model.evaluate(x=test_gen))"
   ]
  },
  {
   "cell_type": "code",
   "execution_count": 5,
   "id": "conceptual-spring",
   "metadata": {},
   "outputs": [],
   "source": [
    "# make predictions\n",
    "model_pred = [model.predict(test_gen) for model in models]\n",
    "model_pred = np.array(model_pred)\n",
    "\n",
    "# sum across ensembles\n",
    "probability_sum = np.sum(model_pred, axis=0)\n",
    "\n",
    "# argmax across classes\n",
    "predictions = np.argmax(probability_sum, axis=-1)\n",
    "\n",
    "#https://machinelearningmastery.com/model-averaging-ensemble-for-deep-learning-neural-networks/\n",
    "#Used this source for help"
   ]
  },
  {
   "cell_type": "code",
   "execution_count": 39,
   "id": "northern-arrangement",
   "metadata": {},
   "outputs": [
    {
     "name": "stdout",
     "output_type": "stream",
     "text": [
      "[5 2 5 ... 7 7 7]\n"
     ]
    }
   ],
   "source": [
    "print(predictions)"
   ]
  },
  {
   "cell_type": "code",
   "execution_count": 6,
   "id": "dominican-arcade",
   "metadata": {},
   "outputs": [
    {
     "name": "stdout",
     "output_type": "stream",
     "text": [
      "Confusion matrix without normalization\n",
      "[[  25   16   13    0    0   19    4    1]\n",
      " [   3  257   24    2   16   34    3    4]\n",
      " [   3   20  171    1   24   38    2    2]\n",
      " [   0    1    3    7    4    4    0    0]\n",
      " [   1   27   73   10 1079  120    0    8]\n",
      " [   1   21   43    1   58  319    3    5]\n",
      " [   2   11   12    0    0   15   18    1]\n",
      " [   0    2    2    1    2    3    0   16]]\n"
     ]
    },
    {
     "data": {
      "image/png": "[encoded data removed]",
      "text/plain": [
       "<Figure size 432x288 with 2 Axes>"
      ]
     },
     "metadata": {
      "needs_background": "light"
     },
     "output_type": "display_data"
    }
   ],
   "source": [
    "cm = confusion_matrix(y_true=test_gen.classes, y_pred=predictions)\n",
    "\n",
    "#function for confusion matrix taken from scikit-learn website\n",
    "# https://scikit-learn.org/0.18/auto_examples/model_selection/plot_confusion_matrix.html\n",
    "def plot_confusion_matrix(cm, classes, normalize=False, title='Confusion Matrix', cmap=plt.cm.Reds):\n",
    "    plt.imshow(cm, interpolation='nearest', cmap=cmap)\n",
    "    plt.title(title)\n",
    "    plt.colorbar()\n",
    "    tick_marks = np.arange(len(classes))\n",
    "    plt.xticks(tick_marks, classes, rotation=45)\n",
    "    plt.yticks(tick_marks, classes)\n",
    "    \n",
    "    if normalize:\n",
    "        cm = cm.astype('float') / cm.sum(axis=1)[:, np.newaxis]\n",
    "        print(\"Normalized confusion matrix\")\n",
    "    else:\n",
    "        print(\"Confusion matrix without normalization\")\n",
    "        \n",
    "    print(cm)\n",
    "    \n",
    "    thresh = cm.max() / 2.\n",
    "    for i, j in itertools.product(range(cm.shape[0]), range(cm.shape[1])):\n",
    "        plt.text(j, i, cm[i, j],\n",
    "                 horizontalalignment=\"center\",\n",
    "                 color=\"white\" if cm[i, j] > thresh else \"black\")\n",
    "        \n",
    "    plt.tight_layout()\n",
    "    plt.ylabel('True label')\n",
    "    plt.xlabel('Predicted label')\n",
    "    \n",
    "cm_plot_labels = ['AK', 'BCC', 'BK', 'DF', 'MN', 'MEL', 'SCC', 'VL'] #setting labels\n",
    "plot_confusion_matrix(cm=cm, classes=cm_plot_labels, title='Confusion Matrix')"
   ]
  },
  {
   "cell_type": "code",
   "execution_count": 7,
   "id": "failing-delhi",
   "metadata": {},
   "outputs": [
    {
     "name": "stdout",
     "output_type": "stream",
     "text": [
      "0.7405088062622309\n"
     ]
    }
   ],
   "source": [
    "print(accuracy_score(test_gen.classes, predictions))"
   ]
  },
  {
   "cell_type": "code",
   "execution_count": 10,
   "id": "driving-limitation",
   "metadata": {},
   "outputs": [
    {
     "name": "stdout",
     "output_type": "stream",
     "text": [
      "              precision    recall  f1-score   support\n",
      "\n",
      "           0       0.71      0.32      0.44        78\n",
      "           1       0.72      0.75      0.74       343\n",
      "           2       0.50      0.66      0.57       261\n",
      "           3       0.32      0.37      0.34        19\n",
      "           4       0.91      0.82      0.86      1318\n",
      "           5       0.58      0.71      0.64       451\n",
      "           6       0.60      0.31      0.40        59\n",
      "           7       0.43      0.62      0.51        26\n",
      "\n",
      "    accuracy                           0.74      2555\n",
      "   macro avg       0.60      0.57      0.56      2555\n",
      "weighted avg       0.76      0.74      0.74      2555\n",
      "\n"
     ]
    }
   ],
   "source": [
    "from sklearn.metrics import classification_report\n",
    "\n",
    "#this gives precision, recall, f1 score and accuracy scores\n",
    "print(classification_report(test_gen.classes, predictions))"
   ]
  },
  {
   "cell_type": "code",
   "execution_count": null,
   "id": "ethical-april",
   "metadata": {},
   "outputs": [],
   "source": [
    "#print(test_labels)\n",
    "test_gen.class_indices"
   ]
  }
 ],
 "metadata": {
  "kernelspec": {
   "display_name": "Python 3",
   "language": "python",
   "name": "python3"
  },
  "language_info": {
   "codemirror_mode": {
    "name": "ipython",
    "version": 3
   },
   "file_extension": ".py",
   "mimetype": "text/x-python",
   "name": "python",
   "nbconvert_exporter": "python",
   "pygments_lexer": "ipython3",
   "version": "3.6.9"
  }
 },
 "nbformat": 4,
 "nbformat_minor": 5
}
